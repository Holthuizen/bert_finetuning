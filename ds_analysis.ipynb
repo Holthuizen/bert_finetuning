{
 "cells": [
  {
   "cell_type": "markdown",
   "metadata": {},
   "source": [
    "\n",
    "## this notebook explores the distribution of sequence lengths in the dataset, number of articles per year and sequence length of the title and excerpt"
   ]
  },
  {
   "cell_type": "code",
   "execution_count": null,
   "metadata": {},
   "outputs": [],
   "source": [
    "import pandas as pd \n",
    "df = pd.read_parquet(\"nyt_data.parquet\")\n",
    "df.head()"
   ]
  },
  {
   "cell_type": "code",
   "execution_count": 68,
   "metadata": {},
   "outputs": [],
   "source": [
    "import matplotlib.pyplot as plt\n",
    "import matplotlib.ticker as ticker\n",
    "\n",
    "def plot_year_dist(df, title=\"articles for each year\"): \n",
    "    counts = df.groupby(\"year\").size()\n",
    "    plt.figure(figsize=(12, 6))\n",
    "    counts.plot(kind=\"bar\", width=0.8,title=title)\n",
    "    # Set x-axis ticks 5 years apart\n",
    "    plt.gca().xaxis.set_major_locator(ticker.MultipleLocator(5))\n",
    "    #set y-axis 1000 -> 1k \n",
    "    plt.gca().yaxis.set_major_formatter(ticker.FuncFormatter(lambda y_value, pos: '{:.0f}K'.format(y_value / 1000)))\n",
    "\n",
    "    plt.xlabel(\"Year\")\n",
    "    plt.ylabel(\"Count\")\n",
    "    plt.xticks(rotation=90)\n",
    "    plt.tight_layout()\n",
    "    plt.show()"
   ]
  },
  {
   "cell_type": "code",
   "execution_count": 69,
   "metadata": {},
   "outputs": [],
   "source": [
    "def filter_on_str_length(df, column_key, max_len=1):\n",
    "    #returns a new df that satisfies the condition df[column_key] has a str of len > max_len\n",
    "    return df[df[column_key].str.len() > max_len]"
   ]
  },
  {
   "cell_type": "code",
   "execution_count": 70,
   "metadata": {},
   "outputs": [],
   "source": [
    "df_excerpt = filter_on_str_length(df, \"excerpt\", max_len=1) #excerpt has more then 1 char (filters out all non or 1 item excerpts)\n",
    "df_title  = filter_on_str_length(df, \"title\", max_len=10) # titles longer then 10 chars"
   ]
  },
  {
   "cell_type": "code",
   "execution_count": null,
   "metadata": {},
   "outputs": [],
   "source": [
    "plot_year_dist(df_title, title=\"News headlines/Year\")"
   ]
  },
  {
   "cell_type": "code",
   "execution_count": null,
   "metadata": {},
   "outputs": [],
   "source": [
    "plot_year_dist(df_excerpt, title=\"News headlines/Year, with excerpts\")"
   ]
  },
  {
   "cell_type": "code",
   "execution_count": null,
   "metadata": {},
   "outputs": [],
   "source": [
    "# proportion of original size\n",
    "len(df_title)/len(df)\n",
    "#len(df_excerpt)/len(df)"
   ]
  }
 ],
 "metadata": {
  "kernelspec": {
   "display_name": ".venv",
   "language": "python",
   "name": "python3"
  },
  "language_info": {
   "codemirror_mode": {
    "name": "ipython",
    "version": 3
   },
   "file_extension": ".py",
   "mimetype": "text/x-python",
   "name": "python",
   "nbconvert_exporter": "python",
   "pygments_lexer": "ipython3",
   "version": "3.12.7"
  }
 },
 "nbformat": 4,
 "nbformat_minor": 2
}
