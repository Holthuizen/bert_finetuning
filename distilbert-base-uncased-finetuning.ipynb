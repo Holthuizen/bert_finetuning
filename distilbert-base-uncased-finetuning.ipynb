{
 "cells": [
  {
   "cell_type": "code",
   "execution_count": 6,
   "metadata": {},
   "outputs": [],
   "source": [
    "#%pip install transformers[torch]\n",
    "# %pip install torch\n",
    "# %pip install datasets\n",
    "#%pip install accelerate"
   ]
  },
  {
   "cell_type": "code",
   "execution_count": 7,
   "metadata": {},
   "outputs": [
    {
     "name": "stdout",
     "output_type": "stream",
     "text": [
      "DEVICE is : cuda\n"
     ]
    }
   ],
   "source": [
    "import torch\n",
    "\n",
    "DEVICE = \"cpu\"\n",
    "# setup optimal acceleration DEVICE \n",
    "if torch.backends.mps.is_available():\n",
    "    DEVICE = torch.device(\"mps\")  # Use Metal Performance Shaders on macOS\n",
    "elif torch.cuda.is_available():\n",
    "    DEVICE = torch.device(\"cuda\")  # to check if cuda is an option https://www.restack.io/p/gpu-computing-answer-is-my-gpu-cuda-enabled-cat-ai\n",
    "\n",
    "print(f\"DEVICE is : {DEVICE}\")"
   ]
  },
  {
   "cell_type": "code",
   "execution_count": 8,
   "metadata": {},
   "outputs": [],
   "source": [
    "from transformers import AutoModelForMaskedLM, AutoTokenizer\n",
    "\n",
    "def load_model(model_path_or_id:str, device:str):\n",
    "    # Replace AutoModelForMaskedLM with the correct class for your task, e.g., AutoModelForSequenceClassification\n",
    "    model = AutoModelForMaskedLM.from_pretrained(model_path_or_id)\n",
    "    tokenizer = AutoTokenizer.from_pretrained(model_path_or_id)\n",
    "    \n",
    "    model.to(device)\n",
    "\n",
    "    return model, tokenizer"
   ]
  },
  {
   "cell_type": "code",
   "execution_count": 9,
   "metadata": {},
   "outputs": [],
   "source": [
    "model_checkpoint = 'distilbert/distilbert-base-uncased'\n",
    "\n",
    "model, tokenizer = load_model(model_path_or_id=model_checkpoint, device=DEVICE)"
   ]
  },
  {
   "cell_type": "code",
   "execution_count": 10,
   "metadata": {},
   "outputs": [
    {
     "data": {
      "text/plain": [
       "{'text': 'I rented I AM CURIOUS-YELLOW from my video store because of all the controversy that surrounded it when it was first released in 1967. I also heard that at first it was seized by U.S. customs if it ever tried to enter this country, therefore being a fan of films considered \"controversial\" I really had to see this for myself.<br /><br />The plot is centered around a young Swedish drama student named Lena who wants to learn everything she can about life. In particular she wants to focus her attentions to making some sort of documentary on what the average Swede thought about certain political issues such as the Vietnam War and race issues in the United States. In between asking politicians and ordinary denizens of Stockholm about their opinions on politics, she has sex with her drama teacher, classmates, and married men.<br /><br />What kills me about I AM CURIOUS-YELLOW is that 40 years ago, this was considered pornographic. Really, the sex and nudity scenes are few and far between, even then it\\'s not shot like some cheaply made porno. While my countrymen mind find it shocking, in reality sex and nudity are a major staple in Swedish cinema. Even Ingmar Bergman, arguably their answer to good old boy John Ford, had sex scenes in his films.<br /><br />I do commend the filmmakers for the fact that any sex shown in the film is shown for artistic purposes rather than just to shock people and make money to be shown in pornographic theaters in America. I AM CURIOUS-YELLOW is a good film for anyone wanting to study the meat and potatoes (no pun intended) of Swedish cinema. But really, this film doesn\\'t have much of a plot.',\n",
       " 'label': 0}"
      ]
     },
     "execution_count": 10,
     "metadata": {},
     "output_type": "execute_result"
    }
   ],
   "source": [
    "#finetuning on IMDb\n",
    "from datasets import load_dataset\n",
    "imdb_dataset = load_dataset(\"imdb\")\n",
    "imdb_dataset[\"train\"][0]"
   ]
  },
  {
   "cell_type": "code",
   "execution_count": 11,
   "metadata": {},
   "outputs": [
    {
     "data": {
      "application/vnd.jupyter.widget-view+json": {
       "model_id": "8b0a711d496a4a22b67c4499c5820618",
       "version_major": 2,
       "version_minor": 0
      },
      "text/plain": [
       "Map:   0%|          | 0/25000 [00:00<?, ? examples/s]"
      ]
     },
     "metadata": {},
     "output_type": "display_data"
    },
    {
     "name": "stderr",
     "output_type": "stream",
     "text": [
      "Token indices sequence length is longer than the specified maximum sequence length for this model (532 > 512). Running this sequence through the model will result in indexing errors\n"
     ]
    },
    {
     "data": {
      "text/plain": [
       "DatasetDict({\n",
       "    train: Dataset({\n",
       "        features: ['input_ids', 'attention_mask', 'word_ids'],\n",
       "        num_rows: 25000\n",
       "    })\n",
       "    test: Dataset({\n",
       "        features: ['input_ids', 'attention_mask', 'word_ids'],\n",
       "        num_rows: 25000\n",
       "    })\n",
       "    unsupervised: Dataset({\n",
       "        features: ['input_ids', 'attention_mask', 'word_ids'],\n",
       "        num_rows: 50000\n",
       "    })\n",
       "})"
      ]
     },
     "execution_count": 11,
     "metadata": {},
     "output_type": "execute_result"
    }
   ],
   "source": [
    "def tokenize_function(examples):\n",
    "    result = tokenizer(examples[\"text\"])\n",
    "    if tokenizer.is_fast:\n",
    "        result[\"word_ids\"] = [result.word_ids(i) for i in range(len(result[\"input_ids\"]))]\n",
    "    return result\n",
    "\n",
    "\n",
    "# Use batched=True to activate fast multithreading!\n",
    "tokenized_datasets = imdb_dataset.map(\n",
    "    tokenize_function, batched=True, remove_columns=[\"text\", \"label\"]\n",
    ")\n",
    "tokenized_datasets"
   ]
  },
  {
   "cell_type": "code",
   "execution_count": 12,
   "metadata": {},
   "outputs": [],
   "source": [
    "chunk_size = tokenizer.model_max_length // 2\n",
    "def group_texts(examples):\n",
    "    # Concatenate all texts\n",
    "    concatenated_examples = {k: sum(examples[k], []) if isinstance(examples[k][0], list) else examples[k] for k in examples.keys()}\n",
    "    # Compute the total length of concatenated texts\n",
    "    total_length = len(concatenated_examples[list(examples.keys())[0]])\n",
    "    # Drop the last chunk if it's smaller than chunk_size\n",
    "    total_length = (total_length // chunk_size) * chunk_size\n",
    "    # Split by chunks of chunk_size\n",
    "    result = {\n",
    "        k: [t[i : i + chunk_size] for i in range(0, total_length, chunk_size)]\n",
    "        for k, t in concatenated_examples.items()\n",
    "    }\n",
    "    # Create a new \"labels\" column that is a copy of \"input_ids\"\n",
    "    result[\"labels\"] = result[\"input_ids\"].copy()\n",
    "    return result\n"
   ]
  },
  {
   "cell_type": "code",
   "execution_count": 13,
   "metadata": {},
   "outputs": [
    {
     "data": {
      "application/vnd.jupyter.widget-view+json": {
       "model_id": "2168fe1cc24d4a8d838abf3741c793eb",
       "version_major": 2,
       "version_minor": 0
      },
      "text/plain": [
       "Map:   0%|          | 0/25000 [00:00<?, ? examples/s]"
      ]
     },
     "metadata": {},
     "output_type": "display_data"
    },
    {
     "data": {
      "text/plain": [
       "DatasetDict({\n",
       "    train: Dataset({\n",
       "        features: ['input_ids', 'attention_mask', 'word_ids', 'labels'],\n",
       "        num_rows: 30639\n",
       "    })\n",
       "    test: Dataset({\n",
       "        features: ['input_ids', 'attention_mask', 'word_ids', 'labels'],\n",
       "        num_rows: 29946\n",
       "    })\n",
       "    unsupervised: Dataset({\n",
       "        features: ['input_ids', 'attention_mask', 'word_ids', 'labels'],\n",
       "        num_rows: 61465\n",
       "    })\n",
       "})"
      ]
     },
     "execution_count": 13,
     "metadata": {},
     "output_type": "execute_result"
    }
   ],
   "source": [
    "lm_datasets = tokenized_datasets.map(group_texts, batched=True)\n",
    "lm_datasets"
   ]
  },
  {
   "cell_type": "code",
   "execution_count": 14,
   "metadata": {},
   "outputs": [],
   "source": [
    "from transformers import DataCollatorForLanguageModeling, TrainingArguments, Trainer\n",
    "\n",
    "tokenizer.pad_token = \"[PAD]\" #tokenizer.eos_token\n",
    "data_collator = DataCollatorForLanguageModeling(tokenizer=tokenizer, mlm_probability=0.15)"
   ]
  },
  {
   "cell_type": "code",
   "execution_count": 15,
   "metadata": {},
   "outputs": [
    {
     "data": {
      "application/vnd.jupyter.widget-view+json": {
       "model_id": "2c30c8b0f7ee4cd185de8333696aaee7",
       "version_major": 2,
       "version_minor": 0
      },
      "text/plain": [
       "  0%|          | 0/958 [00:00<?, ?it/s]"
      ]
     },
     "metadata": {},
     "output_type": "display_data"
    },
    {
     "name": "stdout",
     "output_type": "stream",
     "text": [
      "{'loss': 2.5117, 'grad_norm': 3.6085495948791504, 'learning_rate': 9.624217118997912e-06, 'epoch': 0.52}\n",
      "{'train_runtime': 314.947, 'train_samples_per_second': 97.283, 'train_steps_per_second': 3.042, 'train_loss': 2.473961943624413, 'epoch': 1.0}\n",
      "CPU times: total: 5min 14s\n",
      "Wall time: 5min 16s\n"
     ]
    },
    {
     "data": {
      "text/plain": [
       "TrainOutput(global_step=958, training_loss=2.473961943624413, metrics={'train_runtime': 314.947, 'train_samples_per_second': 97.283, 'train_steps_per_second': 3.042, 'total_flos': 2030770630812672.0, 'train_loss': 2.473961943624413, 'epoch': 1.0})"
      ]
     },
     "execution_count": 15,
     "metadata": {},
     "output_type": "execute_result"
    }
   ],
   "source": [
    "from transformers import TrainingArguments, Trainer\n",
    "\n",
    "training_args = TrainingArguments(\n",
    "    output_dir=\"movie_model\",\n",
    "    save_strategy=\"epoch\",\n",
    "    learning_rate=2e-5,\n",
    "    num_train_epochs=1,\n",
    "    weight_decay=0.01,\n",
    "    push_to_hub=False,\n",
    "    per_device_train_batch_size=32,  # lower this in case of memory problems\n",
    "    fp16 = True\n",
    ")\n",
    "\n",
    "trainer = Trainer(\n",
    "    model=model,\n",
    "    args=training_args,\n",
    "    train_dataset=lm_datasets[\"train\"],\n",
    "    eval_dataset=lm_datasets[\"test\"],\n",
    "    data_collator=data_collator,\n",
    "    tokenizer=tokenizer,\n",
    ")\n",
    "\n",
    "%time trainer.train()"
   ]
  },
  {
   "cell_type": "code",
   "execution_count": 16,
   "metadata": {},
   "outputs": [],
   "source": [
    "def top_k_prediction(masked_text, model, tokenizer, k=10):\n",
    "    model.to(DEVICE) \n",
    "    inputs = tokenizer(masked_text, return_tensors=\"pt\").to(DEVICE)\n",
    "    logits = model(**inputs).logits\n",
    "    mask_token_index = torch.where(inputs[\"input_ids\"]==tokenizer.mask_token_id)[1]\n",
    "    mask_token_logits = logits[0, mask_token_index, :]\n",
    "    return [tokenizer.decode(t) for t in torch.topk(mask_token_logits, k, dim=1).indices[0].tolist()]"
   ]
  },
  {
   "cell_type": "code",
   "execution_count": 17,
   "metadata": {},
   "outputs": [
    {
     "data": {
      "text/plain": [
       "[(0, 'weather'),\n",
       " (1, 'world'),\n",
       " (2, 'life'),\n",
       " (3, 'far'),\n",
       " (4, 'look'),\n",
       " (5, 'air'),\n",
       " (6, 'space'),\n",
       " (7, 'time'),\n",
       " (8, 'land'),\n",
       " (9, 'sea'),\n",
       " (10, 'good'),\n",
       " (11, 'atmosphere'),\n",
       " (12, 'view'),\n",
       " (13, 'man'),\n",
       " (14, 'way'),\n",
       " (15, 'feeling'),\n",
       " (16, 'art'),\n",
       " (17, 'the'),\n",
       " (18, 'one'),\n",
       " (19, 'house'),\n",
       " (20, 'light'),\n",
       " (21, 'scenery'),\n",
       " (22, 'whole'),\n",
       " (23, 'beauty'),\n",
       " (24, 'sight'),\n",
       " (25, 'mood'),\n",
       " (26, 'landscape'),\n",
       " (27, 'sky'),\n",
       " (28, 'road'),\n",
       " (29, 'temperature')]"
      ]
     },
     "execution_count": 17,
     "metadata": {},
     "output_type": "execute_result"
    }
   ],
   "source": [
    "k = 30\n",
    "#origional, number the output\n",
    "list(zip(range(k), top_k_prediction(\"The [MASK] outside is great\", model, tokenizer, k)))\n"
   ]
  },
  {
   "cell_type": "code",
   "execution_count": 18,
   "metadata": {},
   "outputs": [
    {
     "data": {
      "text/plain": [
       "[(0, 'weather'),\n",
       " (1, 'view'),\n",
       " (2, 'scenery'),\n",
       " (3, 'air'),\n",
       " (4, 'atmosphere'),\n",
       " (5, 'world'),\n",
       " (6, 'space'),\n",
       " (7, 'sea'),\n",
       " (8, 'look'),\n",
       " (9, 'climate'),\n",
       " (10, 'time'),\n",
       " (11, 'feeling'),\n",
       " (12, 'temperature'),\n",
       " (13, 'life'),\n",
       " (14, 'sun'),\n",
       " (15, 'landscape'),\n",
       " (16, 'sky'),\n",
       " (17, 'land'),\n",
       " (18, 'area'),\n",
       " (19, 'music'),\n",
       " (20, 'light'),\n",
       " (21, 'sight'),\n",
       " (22, 'environment'),\n",
       " (23, 'the'),\n",
       " (24, 'beauty'),\n",
       " (25, 'art'),\n",
       " (26, 'silence'),\n",
       " (27, 'city'),\n",
       " (28, 'garden'),\n",
       " (29, 'lighting')]"
      ]
     },
     "execution_count": 18,
     "metadata": {},
     "output_type": "execute_result"
    }
   ],
   "source": [
    "tuned_model, tokenizer = load_model(model_path_or_id=\"movie_model\\checkpoint-958\", device=DEVICE)\n",
    "list(zip(range(k), top_k_prediction(\"The [MASK] outside is great\", tuned_model, tokenizer, k)))"
   ]
  },
  {
   "cell_type": "markdown",
   "metadata": {},
   "source": [
    "# TODO\n",
    "Implement some measures between the returned logits, distributions or topk results from models. "
   ]
  },
  {
   "cell_type": "code",
   "execution_count": 19,
   "metadata": {},
   "outputs": [],
   "source": [
    "#perplexity of target words"
   ]
  },
  {
   "cell_type": "code",
   "execution_count": 26,
   "metadata": {},
   "outputs": [
    {
     "data": {
      "text/plain": [
       "({'area', 'art', 'beauty', 'land', 'lighting', 'sight', 'silence', 'time'},\n",
       " {'cold', 'cool', 'dark', 'house', 'ocean', 'rain', 'sunshine', 'wind'})"
      ]
     },
     "execution_count": 26,
     "metadata": {},
     "output_type": "execute_result"
    }
   ],
   "source": [
    "#recall (how many words stayed the same)\n",
    "\n",
    "A = list(top_k_prediction(\"The [MASK] outside is great\", model, tokenizer, k))\n",
    "B = list(top_k_prediction(\"The [MASK] outside is great\", tuned_model, tokenizer, k))\n",
    "\n",
    "def recall_in_top_k(A,B): \n",
    "    overlap = {word for word in A if word in B}\n",
    "    return overlap\n",
    "\n",
    "def differences_in_top_k(A,B): \n",
    "    new_in_B = {word for word in B if word not in A}\n",
    "    left_out_in_B= {word for word in A if word not in B}\n",
    "    return new_in_B, left_out_in_B\n",
    "\n",
    "differences_in_top_k(A,B)\n",
    "#recall_in_top_k(A,B)"
   ]
  },
  {
   "cell_type": "code",
   "execution_count": 29,
   "metadata": {},
   "outputs": [
    {
     "data": {
      "text/plain": [
       "0.5789473684210527"
      ]
     },
     "execution_count": 29,
     "metadata": {},
     "output_type": "execute_result"
    }
   ],
   "source": [
    "#jaccard Similarity: Measures overlap between two sets or lists.\n",
    "def jaccard(A,B): \n",
    "    intersection = {word for word in A if word in B}\n",
    "    union = set(A+B)\n",
    "    return len(intersection)/len(union)\n",
    "    \n",
    "jaccard(A,B)"
   ]
  },
  {
   "cell_type": "code",
   "execution_count": 32,
   "metadata": {},
   "outputs": [
    {
     "name": "stdout",
     "output_type": "stream",
     "text": [
      "Collecting editdistance\n",
      "  Downloading editdistance-0.8.1-cp311-cp311-win_amd64.whl.metadata (3.9 kB)\n",
      "Downloading editdistance-0.8.1-cp311-cp311-win_amd64.whl (79 kB)\n",
      "Installing collected packages: editdistance\n",
      "Successfully installed editdistance-0.8.1\n"
     ]
    },
    {
     "name": "stderr",
     "output_type": "stream",
     "text": [
      "WARNING: Error parsing dependencies of textract: .* suffix can only be used with `==` or `!=` operators\n",
      "    extract-msg (<=0.29.*)\n",
      "                 ~~~~~~~^\n",
      "\n",
      "[notice] A new release of pip is available: 24.2 -> 24.3.1\n",
      "[notice] To update, run: python.exe -m pip install --upgrade pip\n"
     ]
    }
   ],
   "source": [
    "!pip install editdistance"
   ]
  },
  {
   "cell_type": "code",
   "execution_count": null,
   "metadata": {},
   "outputs": [
    {
     "data": {
      "text/plain": [
       "26"
      ]
     },
     "execution_count": 33,
     "metadata": {},
     "output_type": "execute_result"
    }
   ],
   "source": [
    "import editdistance\n",
    "distance = editdistance.eval(A, B)\n",
    "distance #minimum number of eddits (insert, delete, substitute) required to transform A --> B"
   ]
  }
 ],
 "metadata": {
  "kernelspec": {
   "display_name": "Python 3",
   "language": "python",
   "name": "python3"
  },
  "language_info": {
   "codemirror_mode": {
    "name": "ipython",
    "version": 3
   },
   "file_extension": ".py",
   "mimetype": "text/x-python",
   "name": "python",
   "nbconvert_exporter": "python",
   "pygments_lexer": "ipython3",
   "version": "3.11.0"
  }
 },
 "nbformat": 4,
 "nbformat_minor": 2
}
